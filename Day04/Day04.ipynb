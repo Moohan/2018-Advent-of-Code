{
 "cells": [
  {
   "cell_type": "code",
   "execution_count": 1,
   "metadata": {},
   "outputs": [
    {
     "name": "stdout",
     "output_type": "stream",
     "text": [
      "{'Time': '[1518-05-12 00:46]', 'GuardID': '', 'Action': 'wakes up'}\n",
      "{'Time': '[1518-11-17 00:21]', 'GuardID': '', 'Action': 'wakes up'}\n",
      "{'Time': '[1518-06-13 00:02]', 'GuardID': '', 'Action': 'falls asleep'}\n",
      "{'Time': '[1518-07-16 00:00]', 'GuardID': '#3209', 'Action': 'begins shift'}\n",
      "{'Time': '[1518-03-18 23:57]', 'GuardID': '#857', 'Action': 'begins shift'}\n",
      "{'Time': '[1518-05-05 00:22]', 'GuardID': '', 'Action': 'wakes up'}\n",
      "{'Time': '[1518-03-20 00:25]', 'GuardID': '', 'Action': 'wakes up'}\n",
      "{'Time': '[1518-04-20 00:52]', 'GuardID': '', 'Action': 'wakes up'}\n",
      "{'Time': '[1518-04-11 00:01]', 'GuardID': '#3259', 'Action': 'begins shift'}\n",
      "{'Time': '[1518-09-17 00:58]', 'GuardID': '', 'Action': 'wakes up'}\n"
     ]
    }
   ],
   "source": [
    "\"\"\"\n",
    "Advent of Code 2018\n",
    "https://adventofcode.com/2018\n",
    "\n",
    "Day 3\n",
    "Part 1\n",
    "\"\"\"\n",
    "\n",
    "#Set up\n",
    "import re\n",
    "\n",
    "pattern = re.compile(r'(?P<Time>\\[.+?\\])\\s?(?:Guard\\s)?(?P<GuardID>(?:\\#\\d+)|)\\s?(?P<Action>.+?\\s.+)')\n",
    "\n",
    "guard_log = []\n",
    "for line in open('input'):\n",
    "    guard_log.append([match.groupdict() for match in pattern.finditer(line.strip())][0])\n",
    "    \n",
    "    \n",
    "def printTest():\n",
    "    for e in range(10):\n",
    "        print(guard_log[e])\n",
    "        \n",
    "printTest()"
   ]
  },
  {
   "cell_type": "code",
   "execution_count": 107,
   "metadata": {},
   "outputs": [
    {
     "name": "stdout",
     "output_type": "stream",
     "text": [
      "{'Time': '[1518-03-05 23:57]', 'GuardID': '#2963', 'Action': 'begins shift', 'DateTime': datetime.datetime(1518, 3, 5, 23, 57)}\n",
      "{'Time': '[1518-03-06 00:25]', 'GuardID': '#2963', 'Action': 'falls asleep', 'DateTime': datetime.datetime(1518, 3, 6, 0, 25)}\n",
      "{'Time': '[1518-03-06 00:46]', 'GuardID': '#2963', 'Action': 'wakes up', 'DateTime': datetime.datetime(1518, 3, 6, 0, 46)}\n",
      "{'Time': '[1518-03-07 00:01]', 'GuardID': '#89', 'Action': 'begins shift', 'DateTime': datetime.datetime(1518, 3, 7, 0, 1)}\n",
      "{'Time': '[1518-03-07 00:15]', 'GuardID': '#89', 'Action': 'falls asleep', 'DateTime': datetime.datetime(1518, 3, 7, 0, 15)}\n",
      "{'Time': '[1518-03-07 00:33]', 'GuardID': '#89', 'Action': 'wakes up', 'DateTime': datetime.datetime(1518, 3, 7, 0, 33)}\n",
      "{'Time': '[1518-03-08 00:01]', 'GuardID': '#3137', 'Action': 'begins shift', 'DateTime': datetime.datetime(1518, 3, 8, 0, 1)}\n",
      "{'Time': '[1518-03-08 00:17]', 'GuardID': '#3137', 'Action': 'falls asleep', 'DateTime': datetime.datetime(1518, 3, 8, 0, 17)}\n",
      "{'Time': '[1518-03-08 00:24]', 'GuardID': '#3137', 'Action': 'wakes up', 'DateTime': datetime.datetime(1518, 3, 8, 0, 24)}\n",
      "{'Time': '[1518-03-08 00:32]', 'GuardID': '#3137', 'Action': 'falls asleep', 'DateTime': datetime.datetime(1518, 3, 8, 0, 32)}\n",
      "57\n"
     ]
    }
   ],
   "source": [
    "from datetime import datetime, timedelta\n",
    "import operator\n",
    "import pprint as pp\n",
    "for event in guard_log:\n",
    "    event['DateTime'] = datetime.strptime(event['Time'], '[%Y-%m-%d %H:%M]')\n",
    "\n",
    "guard_log = sorted(guard_log, key=itemgetter('DateTime'))\n",
    "    \n",
    "for event in guard_log:\n",
    "    if event['GuardID'] != '':\n",
    "        guardID = event['GuardID']\n",
    "    else:\n",
    "        event['GuardID'] = guardID\n",
    "        \n",
    "printTest()\n",
    "\n",
    "pp.pprint(guard_log[0]['DateTime'].minute)"
   ]
  },
  {
   "cell_type": "code",
   "execution_count": 108,
   "metadata": {},
   "outputs": [],
   "source": [
    "from collections import defaultdict\n",
    "\n",
    "def daterange(start_time, end_time):\n",
    "    for n in range(int((end_time - start_time).total_seconds() / 60)):\n",
    "        yield start_time + timedelta(minutes=n)\n",
    "\n",
    "guard_sleep_minutes = defaultdict(list)\n",
    "guard_sleep_total = defaultdict(int)\n",
    "\n",
    "for i in range(len(guard_log)):\n",
    "    event = guard_log[i]\n",
    "    guardID = event['GuardID']\n",
    "    \n",
    "    if event['Action'] == 'wakes up':\n",
    "        prev_event = guard_log[i-1]\n",
    "        guard_sleep_total[guardID] += int((event['DateTime'] - prev_event['DateTime']).total_seconds() / 60)\n",
    "\n",
    "        for minute in daterange(prev_event['DateTime'], event['DateTime']):\n",
    "            guard_sleep_minutes[guardID].append(minute.time())\n",
    "        \n",
    "        "
   ]
  },
  {
   "cell_type": "code",
   "execution_count": 117,
   "metadata": {},
   "outputs": [
    {
     "name": "stdout",
     "output_type": "stream",
     "text": [
      "defaultdict(<class 'int'>,\n",
      "            {'#1009': 137,\n",
      "             '#1283': 163,\n",
      "             '#1381': 259,\n",
      "             '#151': 315,\n",
      "             '#1571': 278,\n",
      "             '#1697': 367,\n",
      "             '#1723': 396,\n",
      "             '#2251': 188,\n",
      "             '#2411': 315,\n",
      "             '#2473': 555,\n",
      "             '#2963': 276,\n",
      "             '#3137': 210,\n",
      "             '#3209': 384,\n",
      "             '#3259': 533,\n",
      "             '#3469': 241,\n",
      "             '#3511': 153,\n",
      "             '#3533': 307,\n",
      "             '#541': 177,\n",
      "             '#857': 651,\n",
      "             '#89': 177})\n",
      "#857 00:46:00\n",
      "39422\n"
     ]
    }
   ],
   "source": [
    "from datetime import time\n",
    "from collections import Counter\n",
    "pp.pprint(guard_sleep_total)\n",
    "\n",
    "guard = max(guard_sleep_total.items(), key=operator.itemgetter(1))[0]\n",
    "modal_sleep_minute = max(set(guard_sleep_minutes[guard]), key=guard_sleep_minutes[guard].count)\n",
    "\n",
    "print(guard, modal_sleep_minute)\n",
    "\n",
    "print(int(guard.replace(\"#\",\"\")) * modal_sleep_minute.minute)"
   ]
  },
  {
   "cell_type": "code",
   "execution_count": 132,
   "metadata": {},
   "outputs": [
    {
     "name": "stdout",
     "output_type": "stream",
     "text": [
      "38\n",
      "('#1009', 53)\n"
     ]
    },
    {
     "data": {
      "text/plain": [
       "(datetime.time(0, 46), 19)"
      ]
     },
     "execution_count": 132,
     "metadata": {},
     "output_type": "execute_result"
    }
   ],
   "source": [
    "#Part 2\n",
    "min_most_asleep = defaultdict(int)\n",
    "min_freq =defaultdict(int)\n",
    "for guard in guard_sleep_minutes.keys():\n",
    "    min_most_asleep[guard] = max(Counter(guard_sleep_minutes[guard]).items(), key=operator.itemgetter(1))[0].minute\n",
    "    min_freq[guard] = max(Counter(guard_sleep_minutes[guard]).items(), key=operator.itemgetter(1))[1]\n",
    "    \n",
    "\n",
    "guard_asleep_most = max(min_freq.items(), key=operator.itemgetter(1))[0]\n",
    "\n",
    "print(min_most_asleep[guard_asleep_most])\n",
    "\n",
    "\n",
    "\n"
   ]
  }
 ],
 "metadata": {
  "kernelspec": {
   "display_name": "Python 3",
   "language": "python",
   "name": "python3"
  },
  "language_info": {
   "codemirror_mode": {
    "name": "ipython",
    "version": 3
   },
   "file_extension": ".py",
   "mimetype": "text/x-python",
   "name": "python",
   "nbconvert_exporter": "python",
   "pygments_lexer": "ipython3",
   "version": "3.6.7"
  }
 },
 "nbformat": 4,
 "nbformat_minor": 2
}
