{
 "cells": [
  {
   "cell_type": "code",
   "execution_count": 35,
   "metadata": {},
   "outputs": [
    {
     "name": "stdout",
     "output_type": "stream",
     "text": [
      "[1518-05-12 00:46]\n",
      "[{'Time': '[1518-05-12 00:46]', 'GuardID': '', 'Action': 'wakes up'}, {'Time': '[1518-11-17 00:21]', 'GuardID': '', 'Action': 'wakes up'}, {'Time': '[1518-06-13 00:02]', 'GuardID': '', 'Action': 'falls asleep'}, {'Time': '[1518-07-16 00:00]', 'GuardID': 'Guard #3209', 'Action': ' begins shift'}, {'Time': '[1518-03-18 23:57]', 'GuardID': 'Guard #857', 'Action': ' begins shift'}, {'Time': '[1518-05-05 00:22]', 'GuardID': '', 'Action': 'wakes up'}, {'Time': '[1518-03-20 00:25]', 'GuardID': '', 'Action': 'wakes up'}, {'Time': '[1518-04-20 00:52]', 'GuardID': '', 'Action': 'wakes up'}, {'Time': '[1518-04-11 00:01]', 'GuardID': 'Guard #3259', 'Action': ' begins shift'}, {'Time': '[1518-09-17 00:58]', 'GuardID': '', 'Action': 'wakes up'}]\n"
     ]
    }
   ],
   "source": [
    "\"\"\"\n",
    "Advent of Code 2018\n",
    "https://adventofcode.com/2018\n",
    "\n",
    "Day 3\n",
    "Part 1\n",
    "\"\"\"\n",
    "\n",
    "#Set up\n",
    "import re\n",
    "\n",
    "pattern = re.compile(r'(?P<Time>\\[.+?\\])\\s?(?P<GuardID>(?:Guard \\#\\d+)|)(?P<Action>.+?\\s.+)')\n",
    "\n",
    "guard_log = []\n",
    "for line in open('input'):\n",
    "    guard_log.append([match.groupdict() for match in pattern.finditer(line.strip())][0])\n",
    "    \n",
    "    \n",
    "print(guard_log[0]['Time'])  \n",
    "print(guard_log[0:10])\n"
   ]
  }
 ],
 "metadata": {
  "kernelspec": {
   "display_name": "Python 3",
   "language": "python",
   "name": "python3"
  },
  "language_info": {
   "codemirror_mode": {
    "name": "ipython",
    "version": 3
   },
   "file_extension": ".py",
   "mimetype": "text/x-python",
   "name": "python",
   "nbconvert_exporter": "python",
   "pygments_lexer": "ipython3",
   "version": "3.6.4"
  }
 },
 "nbformat": 4,
 "nbformat_minor": 2
}
