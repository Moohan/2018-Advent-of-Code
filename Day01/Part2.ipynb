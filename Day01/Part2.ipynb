{
 "cells": [
  {
   "cell_type": "code",
   "execution_count": 11,
   "metadata": {},
   "outputs": [
    {
     "data": {
      "text/html": [
       "<div>\n",
       "<style scoped>\n",
       "    .dataframe tbody tr th:only-of-type {\n",
       "        vertical-align: middle;\n",
       "    }\n",
       "\n",
       "    .dataframe tbody tr th {\n",
       "        vertical-align: top;\n",
       "    }\n",
       "\n",
       "    .dataframe thead th {\n",
       "        text-align: right;\n",
       "    }\n",
       "</style>\n",
       "<table border=\"1\" class=\"dataframe\">\n",
       "  <thead>\n",
       "    <tr style=\"text-align: right;\">\n",
       "      <th></th>\n",
       "      <th>Frequency</th>\n",
       "    </tr>\n",
       "  </thead>\n",
       "  <tbody>\n",
       "    <tr>\n",
       "      <th>0</th>\n",
       "      <td>13</td>\n",
       "    </tr>\n",
       "    <tr>\n",
       "      <th>1</th>\n",
       "      <td>-3</td>\n",
       "    </tr>\n",
       "    <tr>\n",
       "      <th>2</th>\n",
       "      <td>-8</td>\n",
       "    </tr>\n",
       "    <tr>\n",
       "      <th>3</th>\n",
       "      <td>14</td>\n",
       "    </tr>\n",
       "    <tr>\n",
       "      <th>4</th>\n",
       "      <td>16</td>\n",
       "    </tr>\n",
       "  </tbody>\n",
       "</table>\n",
       "</div>"
      ],
      "text/plain": [
       "   Frequency\n",
       "0         13\n",
       "1         -3\n",
       "2         -8\n",
       "3         14\n",
       "4         16"
      ]
     },
     "execution_count": 11,
     "metadata": {},
     "output_type": "execute_result"
    }
   ],
   "source": [
    "\"\"\"\n",
    "Advent of Code 2018\n",
    "https://adventofcode.com/2018\n",
    "\n",
    "Day 1\n",
    "Part 2\n",
    "\"\"\"\n",
    "\n",
    "#Set up\n",
    "import pandas as pd\n",
    "df = pd.read_csv('input', header=None, names=['Frequency'])\n",
    "df.head()"
   ]
  },
  {
   "cell_type": "code",
   "execution_count": 16,
   "metadata": {},
   "outputs": [
    {
     "name": "stdout",
     "output_type": "stream",
     "text": [
      "It took 133,728 frequency changes to find the first repeat.      \n",
      "First repeated frequency: 341\n"
     ]
    }
   ],
   "source": [
    "#Initialise some vars\n",
    "current_frequency = 0\n",
    "frequencies = {current_frequency}\n",
    "found = False\n",
    "\n",
    "#This will let us loop throuhg the list more than once\n",
    "while not found:\n",
    "    #Loop through the list of frequency changes\n",
    "    for freq_change in df.Frequency:\n",
    "        #Work out the new frequency\n",
    "        current_frequency += freq_change\n",
    "        #If it's already in the set, we're done\n",
    "        if current_frequency in frequencies:\n",
    "            found = True\n",
    "            break\n",
    "        #Otherwise add it to the set and move on\n",
    "        else:\n",
    "            frequencies.add(current_frequency)\n",
    "\n",
    "#Print out nicely     \n",
    "print(\"It took {:,} frequency changes to find the first repeat.\\\n",
    "      \\nFirst repeated frequency: {:,}\".format(len(frequencies), current_frequency))\n"
   ]
  }
 ],
 "metadata": {
  "kernelspec": {
   "display_name": "Python 3",
   "language": "python",
   "name": "python3"
  },
  "language_info": {
   "codemirror_mode": {
    "name": "ipython",
    "version": 3
   },
   "file_extension": ".py",
   "mimetype": "text/x-python",
   "name": "python",
   "nbconvert_exporter": "python",
   "pygments_lexer": "ipython3",
   "version": "3.6.4"
  }
 },
 "nbformat": 4,
 "nbformat_minor": 2
}
