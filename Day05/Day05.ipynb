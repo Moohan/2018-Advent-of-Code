{
 "cells": [
  {
   "cell_type": "code",
   "execution_count": 1,
   "metadata": {},
   "outputs": [
    {
     "name": "stdout",
     "output_type": "stream",
     "text": [
      "tvVcCtTEedPpvVD\n"
     ]
    }
   ],
   "source": [
    "\"\"\"\n",
    "Advent of Code 2018\n",
    "https://adventofcode.com/2018\n",
    "\n",
    "Day 5\n",
    "Part 1\n",
    "\"\"\"\n",
    "\n",
    "with open(\"input\") as input:\n",
    "    polymer = input.read().strip()\n",
    "    \n",
    "print(polymer[0:15])"
   ]
  },
  {
   "cell_type": "code",
   "execution_count": 2,
   "metadata": {},
   "outputs": [
    {
     "data": {
      "text/plain": [
       "True"
      ]
     },
     "execution_count": 2,
     "metadata": {},
     "output_type": "execute_result"
    }
   ],
   "source": [
    "def polarity(unit):\n",
    "    return unit.isupper() \n",
    "\n",
    "def sameType(unit1, unit2):\n",
    "    return unit1.casefold() == unit2.casefold()\n",
    "\n",
    "polarity('A')"
   ]
  },
  {
   "cell_type": "code",
   "execution_count": 6,
   "metadata": {},
   "outputs": [],
   "source": [
    "def reactPolymer(polymer_to_react):\n",
    "    had_reaction = True\n",
    "    new_polymer = polymer_to_react\n",
    "    while had_reaction == True:\n",
    "        working = new_polymer\n",
    "        for i, unit in enumerate(working):\n",
    "            if i > 0:\n",
    "                if sameType(unit, new_polymer[i - 1]):\n",
    "                    if (polarity(unit) != polarity(new_polymer[i - 1])):\n",
    "                        new_polymer = new_polymer[:i-1] + new_polymer[i+1:] \n",
    "                        had_reaction = True\n",
    "                        break\n",
    "            had_reaction = False\n",
    "    return new_polymer"
   ]
  },
  {
   "cell_type": "code",
   "execution_count": 7,
   "metadata": {},
   "outputs": [
    {
     "data": {
      "text/plain": [
       "11720"
      ]
     },
     "execution_count": 7,
     "metadata": {},
     "output_type": "execute_result"
    }
   ],
   "source": [
    "reacted_polymer = reactPolymer(polymer)\n",
    "len(reacted_polymer)"
   ]
  },
  {
   "cell_type": "code",
   "execution_count": 9,
   "metadata": {},
   "outputs": [],
   "source": [
    "# Part 2\n",
    "import string\n",
    "from collections import defaultdict\n",
    "\n",
    "unit_type = defaultdict(int)\n",
    "\n",
    "\n",
    "for letter in string.ascii_lowercase:\n",
    "    pair = letter + letter.swapcase()\n",
    "    trial_polymer = reacted_polymer\n",
    "    \n",
    "    count = trial_polymer.count(letter) + trial_polymer.count(letter.swapcase())\n",
    "    while count > 0:\n",
    "        trial_polymer = trial_polymer.replace(letter, \"\")\n",
    "        trial_polymer = trial_polymer.replace(letter.swapcase(), \"\")\n",
    "        \n",
    "        count = trial_polymer.count(letter) + trial_polymer.count(letter.swapcase())\n",
    "        \n",
    "    reacted_trial_polymer = reactPolymer(trial_polymer)\n",
    "    unit_type[pair] = len(reacted_trial_polymer)\n",
    "    \n",
    "    "
   ]
  },
  {
   "cell_type": "code",
   "execution_count": 12,
   "metadata": {},
   "outputs": [
    {
     "name": "stdout",
     "output_type": "stream",
     "text": [
      "('wW', 4956)\n"
     ]
    }
   ],
   "source": [
    "from collections import cou\n",
    "\n",
    "print(min(unit_type.items(), key=operator.itemgetter(1)))"
   ]
  }
 ],
 "metadata": {
  "kernelspec": {
   "display_name": "Python 3",
   "language": "python",
   "name": "python3"
  },
  "language_info": {
   "codemirror_mode": {
    "name": "ipython",
    "version": 3
   },
   "file_extension": ".py",
   "mimetype": "text/x-python",
   "name": "python",
   "nbconvert_exporter": "python",
   "pygments_lexer": "ipython3",
   "version": "3.6.7"
  }
 },
 "nbformat": 4,
 "nbformat_minor": 2
}
