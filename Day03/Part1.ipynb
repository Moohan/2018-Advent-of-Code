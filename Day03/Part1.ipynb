{
 "cells": [
  {
   "cell_type": "code",
   "execution_count": 55,
   "metadata": {},
   "outputs": [
    {
     "data": {
      "text/html": [
       "<div>\n",
       "<style scoped>\n",
       "    .dataframe tbody tr th:only-of-type {\n",
       "        vertical-align: middle;\n",
       "    }\n",
       "\n",
       "    .dataframe tbody tr th {\n",
       "        vertical-align: top;\n",
       "    }\n",
       "\n",
       "    .dataframe thead th {\n",
       "        text-align: right;\n",
       "    }\n",
       "</style>\n",
       "<table border=\"1\" class=\"dataframe\">\n",
       "  <thead>\n",
       "    <tr style=\"text-align: right;\">\n",
       "      <th></th>\n",
       "      <th>ClaimID</th>\n",
       "      <th>Start</th>\n",
       "      <th>Size</th>\n",
       "    </tr>\n",
       "  </thead>\n",
       "  <tbody>\n",
       "    <tr>\n",
       "      <th>0</th>\n",
       "      <td>1</td>\n",
       "      <td>[387, 801]</td>\n",
       "      <td>[11, 22]</td>\n",
       "    </tr>\n",
       "    <tr>\n",
       "      <th>1</th>\n",
       "      <td>2</td>\n",
       "      <td>[101, 301]</td>\n",
       "      <td>[19, 14]</td>\n",
       "    </tr>\n",
       "    <tr>\n",
       "      <th>2</th>\n",
       "      <td>3</td>\n",
       "      <td>[472, 755]</td>\n",
       "      <td>[11, 16]</td>\n",
       "    </tr>\n",
       "    <tr>\n",
       "      <th>3</th>\n",
       "      <td>4</td>\n",
       "      <td>[518, 720]</td>\n",
       "      <td>[23, 17]</td>\n",
       "    </tr>\n",
       "    <tr>\n",
       "      <th>4</th>\n",
       "      <td>5</td>\n",
       "      <td>[481, 939]</td>\n",
       "      <td>[29, 20]</td>\n",
       "    </tr>\n",
       "  </tbody>\n",
       "</table>\n",
       "</div>"
      ],
      "text/plain": [
       "  ClaimID       Start      Size\n",
       "0       1  [387, 801]  [11, 22]\n",
       "1       2  [101, 301]  [19, 14]\n",
       "2       3  [472, 755]  [11, 16]\n",
       "3       4  [518, 720]  [23, 17]\n",
       "4       5  [481, 939]  [29, 20]"
      ]
     },
     "execution_count": 55,
     "metadata": {},
     "output_type": "execute_result"
    }
   ],
   "source": [
    "\"\"\"\n",
    "Advent of Code 2018\n",
    "https://adventofcode.com/2018\n",
    "\n",
    "Day 3\n",
    "Part 1\n",
    "\"\"\"\n",
    "\n",
    "#Set up\n",
    "import pandas as pd\n",
    "df = pd.read_csv('input', header=None, sep= \" \", \n",
    "                 names=['ClaimID', '@', 'Start', 'Size']).drop(columns=['@'])\n",
    "\n",
    "df.ClaimID = df.ClaimID.str.replace(\"#\", \"\")\n",
    "df.Start = [pd.to_numeric(coord) for coord in df.Start.str.replace(\":\", \"\").str.split(\",\")]\n",
    "df.Size = [pd.to_numeric(dim) for dim in df.Size.str.split(\"x\")]\n",
    "\n",
    "df.head()"
   ]
  },
  {
   "cell_type": "code",
   "execution_count": 61,
   "metadata": {},
   "outputs": [],
   "source": [
    "import numpy as np\n",
    "\n",
    "def map_claim(start, size, \n",
    "              fabric_size = (1000, 1000)):\n",
    "    start_zeros = np.zeros( (start[1], start[0]), dtype=int )\n",
    "    top_zeros = np.zeros( (start[1], fabric_size[0] - start[0]), dtype=int )\n",
    "    left_zeros = np.zeros( (size[1], start[0]), dtype=int )\n",
    "    right_zeros = np.zeros( (size[1], fabric_size[0] - start[0] - size[0]), dtype=int )\n",
    "    bottom_zeros = np.zeros( (fabric_size[1] - size[1] - start[1], fabric_size[0]), dtype=int )\n",
    "    \n",
    "    claim_matrix = np.ones( (size[::-1]), dtype=int )\n",
    "\n",
    "    return np.block([[start_zeros, top_zeros], \n",
    "                    [left_zeros, claim_matrix, right_zeros], \n",
    "                   [bottom_zeros]])\n",
    "\n"
   ]
  },
  {
   "cell_type": "code",
   "execution_count": 68,
   "metadata": {},
   "outputs": [
    {
     "name": "stdout",
     "output_type": "stream",
     "text": [
      "[[0 0 0 ... 0 0 0]\n",
      " [0 0 0 ... 0 0 0]\n",
      " [0 0 0 ... 0 0 0]\n",
      " ...\n",
      " [0 0 0 ... 0 0 0]\n",
      " [0 0 0 ... 0 0 0]\n",
      " [0 0 0 ... 0 0 0]]\n"
     ]
    }
   ],
   "source": [
    "fabric = np.zeros( (1000, 1000), dtype=int )\n",
    "for index, row in df.head().iterrows():\n",
    "    fabric += map_claim(row.Start, row.Size)\n",
    "    \n",
    "print(fabric)"
   ]
  },
  {
   "cell_type": "code",
   "execution_count": 70,
   "metadata": {},
   "outputs": [
    {
     "name": "stdout",
     "output_type": "stream",
     "text": [
      "0\n"
     ]
    }
   ],
   "source": [
    "overlap = np.sum(np.where(fabric > 1, 1, 0))\n",
    "print(overlap)"
   ]
  }
 ],
 "metadata": {
  "kernelspec": {
   "display_name": "Python 3",
   "language": "python",
   "name": "python3"
  },
  "language_info": {
   "codemirror_mode": {
    "name": "ipython",
    "version": 3
   },
   "file_extension": ".py",
   "mimetype": "text/x-python",
   "name": "python",
   "nbconvert_exporter": "python",
   "pygments_lexer": "ipython3",
   "version": "3.6.4"
  }
 },
 "nbformat": 4,
 "nbformat_minor": 2
}
