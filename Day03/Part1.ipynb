{
 "cells": [
  {
   "cell_type": "code",
   "execution_count": 52,
   "metadata": {},
   "outputs": [
    {
     "name": "stdout",
     "output_type": "stream",
     "text": [
      "{'matrix': array([[1., 1., 1., 1., 1., 1., 1., 1., 1., 1., 1.],\n",
      "       [1., 1., 1., 1., 1., 1., 1., 1., 1., 1., 1.],\n",
      "       [1., 1., 1., 1., 1., 1., 1., 1., 1., 1., 1.],\n",
      "       [1., 1., 1., 1., 1., 1., 1., 1., 1., 1., 1.],\n",
      "       [1., 1., 1., 1., 1., 1., 1., 1., 1., 1., 1.],\n",
      "       [1., 1., 1., 1., 1., 1., 1., 1., 1., 1., 1.],\n",
      "       [1., 1., 1., 1., 1., 1., 1., 1., 1., 1., 1.],\n",
      "       [1., 1., 1., 1., 1., 1., 1., 1., 1., 1., 1.],\n",
      "       [1., 1., 1., 1., 1., 1., 1., 1., 1., 1., 1.],\n",
      "       [1., 1., 1., 1., 1., 1., 1., 1., 1., 1., 1.],\n",
      "       [1., 1., 1., 1., 1., 1., 1., 1., 1., 1., 1.],\n",
      "       [1., 1., 1., 1., 1., 1., 1., 1., 1., 1., 1.],\n",
      "       [1., 1., 1., 1., 1., 1., 1., 1., 1., 1., 1.],\n",
      "       [1., 1., 1., 1., 1., 1., 1., 1., 1., 1., 1.],\n",
      "       [1., 1., 1., 1., 1., 1., 1., 1., 1., 1., 1.],\n",
      "       [1., 1., 1., 1., 1., 1., 1., 1., 1., 1., 1.],\n",
      "       [1., 1., 1., 1., 1., 1., 1., 1., 1., 1., 1.],\n",
      "       [1., 1., 1., 1., 1., 1., 1., 1., 1., 1., 1.],\n",
      "       [1., 1., 1., 1., 1., 1., 1., 1., 1., 1., 1.],\n",
      "       [1., 1., 1., 1., 1., 1., 1., 1., 1., 1., 1.],\n",
      "       [1., 1., 1., 1., 1., 1., 1., 1., 1., 1., 1.],\n",
      "       [1., 1., 1., 1., 1., 1., 1., 1., 1., 1., 1.]]), 'start': (387, 801), 'size': (11, 22)}\n",
      "(801, 387)\n",
      "(801, 613)\n",
      "(22, 387)\n",
      "(22, 11)\n",
      "(22, 602)\n",
      "(177, 1000)\n",
      "(1000, 1000)\n",
      "(1000, 1000)\n"
     ]
    }
   ],
   "source": [
    "import numpy as np\n",
    "\n",
    "zeros_array = np.zeros( (1000, 1000), dtype=np.int32 )\n",
    "\n",
    "start = (387, 801)\n",
    "size = (11, 22)\n",
    "\n",
    "claim = {'matrix':np.ones( (size[::-1]) ), 'start':(387, 801), 'size':(11, 22)}\n",
    "print(claim)\n",
    "\n",
    "start_zeros = np.zeros(start[::-1])\n",
    "top_zeros = np.zeros( (start[1], 1000 - start[0]) )\n",
    "left_zeros = np.zeros( (size[1], start[0]) )\n",
    "right_zeros = np.zeros( (size[1], 1000 - start[0] - size[0]) )\n",
    "bottom_zeros = np.zeros( (1000 - size[1] - start[1], 1000) )\n",
    "\n",
    "print(np.shape(start_zeros))\n",
    "print(np.shape(top_zeros))\n",
    "print(np.shape(left_zeros))\n",
    "print(np.shape(claim['matrix']))\n",
    "print(np.shape(right_zeros))\n",
    "print(np.shape(bottom_zeros))\n",
    "\n",
    "new = np.block([[start_zeros, top_zeros], \n",
    "                [left_zeros, claim['matrix'], right_zeros], \n",
    "               [bottom_zeros]])\n",
    "\n",
    "print(np.shape(new))\n",
    "print(np.shape(zeros_array))\n",
    "\n"
   ]
  }
 ],
 "metadata": {
  "kernelspec": {
   "display_name": "Python 3",
   "language": "python",
   "name": "python3"
  },
  "language_info": {
   "codemirror_mode": {
    "name": "ipython",
    "version": 3
   },
   "file_extension": ".py",
   "mimetype": "text/x-python",
   "name": "python",
   "nbconvert_exporter": "python",
   "pygments_lexer": "ipython3",
   "version": "3.6.4"
  }
 },
 "nbformat": 4,
 "nbformat_minor": 2
}
