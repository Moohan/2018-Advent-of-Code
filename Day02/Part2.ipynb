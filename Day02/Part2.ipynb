{
 "cells": [
  {
   "cell_type": "code",
   "execution_count": 2,
   "metadata": {},
   "outputs": [
    {
     "data": {
      "text/html": [
       "<div>\n",
       "<style scoped>\n",
       "    .dataframe tbody tr th:only-of-type {\n",
       "        vertical-align: middle;\n",
       "    }\n",
       "\n",
       "    .dataframe tbody tr th {\n",
       "        vertical-align: top;\n",
       "    }\n",
       "\n",
       "    .dataframe thead th {\n",
       "        text-align: right;\n",
       "    }\n",
       "</style>\n",
       "<table border=\"1\" class=\"dataframe\">\n",
       "  <thead>\n",
       "    <tr style=\"text-align: right;\">\n",
       "      <th></th>\n",
       "      <th>IDs</th>\n",
       "    </tr>\n",
       "  </thead>\n",
       "  <tbody>\n",
       "    <tr>\n",
       "      <th>0</th>\n",
       "      <td>revtoubfniyhzsgxdowjwkqglp</td>\n",
       "    </tr>\n",
       "    <tr>\n",
       "      <th>1</th>\n",
       "      <td>revtcgbfniyhzsvxdomjwkqmlp</td>\n",
       "    </tr>\n",
       "    <tr>\n",
       "      <th>2</th>\n",
       "      <td>cevtcubfniyhqsgxdoakwkqmlp</td>\n",
       "    </tr>\n",
       "    <tr>\n",
       "      <th>3</th>\n",
       "      <td>revtcubfniyhzsgxdtavwkqmep</td>\n",
       "    </tr>\n",
       "    <tr>\n",
       "      <th>4</th>\n",
       "      <td>reutcuboniyhzmgxdoajwkqmlp</td>\n",
       "    </tr>\n",
       "  </tbody>\n",
       "</table>\n",
       "</div>"
      ],
      "text/plain": [
       "                          IDs\n",
       "0  revtoubfniyhzsgxdowjwkqglp\n",
       "1  revtcgbfniyhzsvxdomjwkqmlp\n",
       "2  cevtcubfniyhqsgxdoakwkqmlp\n",
       "3  revtcubfniyhzsgxdtavwkqmep\n",
       "4  reutcuboniyhzmgxdoajwkqmlp"
      ]
     },
     "execution_count": 2,
     "metadata": {},
     "output_type": "execute_result"
    }
   ],
   "source": [
    "\"\"\"\n",
    "Advent of Code 2018\n",
    "https://adventofcode.com/2018\n",
    "\n",
    "Day 2\n",
    "Part 1\n",
    "\"\"\"\n",
    "\n",
    "#Set up\n",
    "import pandas as pd\n",
    "df = pd.read_csv('input', header=None, names=['IDs'])\n",
    "df.head()"
   ]
  },
  {
   "cell_type": "code",
   "execution_count": 58,
   "metadata": {},
   "outputs": [
    {
     "name": "stdout",
     "output_type": "stream",
     "text": [
      "The IDs which differ by one character are:      \n",
      "'revtaubfniyhusgxdoajwkqilp' and 'revtaubfniyhpsgxdoajwkqilp'      \n",
      "The different character is 'u' at position 12      \n",
      "The remaing characters in common are: 'revtaubfniyhsgxdoajwkqilp'\n"
     ]
    }
   ],
   "source": [
    "import itertools\n",
    "\n",
    "\n",
    "for x, y in itertools.combinations(df.IDs, 2):\n",
    "    match = 0\n",
    "    for i in range(len(x)):\n",
    "        match += x[i] == y[i]\n",
    "                \n",
    "    if match == len(x) - 1:\n",
    "        target_IDs = (x, y)\n",
    "        break\n",
    "\n",
    "for i in range(len(target_IDs[0])):\n",
    "    if target_IDs[0][i] != target_IDs[1][i]:\n",
    "        mismatch_postition = i\n",
    "        break\n",
    "        \n",
    "character_diff = target_IDs[0][:mismatch_postition] + target_IDs[0][mismatch_postition + 1:]\n",
    "\n",
    "#Print nicely\n",
    "print(\"The IDs which differ by one character are:\\\n",
    "      \\n'{}' and '{}'\\\n",
    "      \\nThe different character is '{}' at position {}\\\n",
    "      \\nThe remaing characters in common are: '{}'\"\n",
    "      .format(target_IDs[0], target_IDs[1], \n",
    "              target_IDs[0][mismatch_postition], mismatch_postition, \n",
    "              character_diff)\n",
    "     )        \n",
    "    "
   ]
  }
 ],
 "metadata": {
  "kernelspec": {
   "display_name": "Python 3",
   "language": "python",
   "name": "python3"
  },
  "language_info": {
   "codemirror_mode": {
    "name": "ipython",
    "version": 3
   },
   "file_extension": ".py",
   "mimetype": "text/x-python",
   "name": "python",
   "nbconvert_exporter": "python",
   "pygments_lexer": "ipython3",
   "version": "3.6.4"
  }
 },
 "nbformat": 4,
 "nbformat_minor": 2
}
