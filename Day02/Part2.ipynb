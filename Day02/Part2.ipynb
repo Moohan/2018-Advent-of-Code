{
 "cells": [
  {
   "cell_type": "code",
   "execution_count": 2,
   "metadata": {},
   "outputs": [
    {
     "data": {
      "text/html": [
       "<div>\n",
       "<style scoped>\n",
       "    .dataframe tbody tr th:only-of-type {\n",
       "        vertical-align: middle;\n",
       "    }\n",
       "\n",
       "    .dataframe tbody tr th {\n",
       "        vertical-align: top;\n",
       "    }\n",
       "\n",
       "    .dataframe thead th {\n",
       "        text-align: right;\n",
       "    }\n",
       "</style>\n",
       "<table border=\"1\" class=\"dataframe\">\n",
       "  <thead>\n",
       "    <tr style=\"text-align: right;\">\n",
       "      <th></th>\n",
       "      <th>IDs</th>\n",
       "    </tr>\n",
       "  </thead>\n",
       "  <tbody>\n",
       "    <tr>\n",
       "      <th>0</th>\n",
       "      <td>revtoubfniyhzsgxdowjwkqglp</td>\n",
       "    </tr>\n",
       "    <tr>\n",
       "      <th>1</th>\n",
       "      <td>revtcgbfniyhzsvxdomjwkqmlp</td>\n",
       "    </tr>\n",
       "    <tr>\n",
       "      <th>2</th>\n",
       "      <td>cevtcubfniyhqsgxdoakwkqmlp</td>\n",
       "    </tr>\n",
       "    <tr>\n",
       "      <th>3</th>\n",
       "      <td>revtcubfniyhzsgxdtavwkqmep</td>\n",
       "    </tr>\n",
       "    <tr>\n",
       "      <th>4</th>\n",
       "      <td>reutcuboniyhzmgxdoajwkqmlp</td>\n",
       "    </tr>\n",
       "  </tbody>\n",
       "</table>\n",
       "</div>"
      ],
      "text/plain": [
       "                          IDs\n",
       "0  revtoubfniyhzsgxdowjwkqglp\n",
       "1  revtcgbfniyhzsvxdomjwkqmlp\n",
       "2  cevtcubfniyhqsgxdoakwkqmlp\n",
       "3  revtcubfniyhzsgxdtavwkqmep\n",
       "4  reutcuboniyhzmgxdoajwkqmlp"
      ]
     },
     "execution_count": 2,
     "metadata": {},
     "output_type": "execute_result"
    }
   ],
   "source": [
    "\"\"\"\n",
    "Advent of Code 2018\n",
    "https://adventofcode.com/2018\n",
    "\n",
    "Day 2\n",
    "Part 2\n",
    "\"\"\"\n",
    "\n",
    "#Set up\n",
    "import pandas as pd\n",
    "df = pd.read_csv('input', header=None, names=['IDs'])\n",
    "df.head()"
   ]
  },
  {
   "cell_type": "code",
   "execution_count": 66,
   "metadata": {},
   "outputs": [
    {
     "name": "stdout",
     "output_type": "stream",
     "text": [
      "The IDs which differ by one character are:      \n",
      "'revtaubfniyhusgxdoajwkqilp' and 'revtaubfniyhpsgxdoajwkqilp'      \n",
      "The different character is 'u' at position 12      \n",
      "The remaing characters in common are: 'revtaubfniyhsgxdoajwkqilp'\n"
     ]
    }
   ],
   "source": [
    "import itertools\n",
    "\n",
    "#Work this out so we can use it later\n",
    "ID_length = len(df.IDs[0])\n",
    "\n",
    "#Use itertools to generate all possible pairs of our IDs\n",
    "for ID1, ID2 in itertools.combinations(df.IDs, 2):\n",
    "    #Keep track of how many characters match each time\n",
    "    match = 0\n",
    "    mismatch_postition = -1\n",
    "    \n",
    "    for i in range(ID_length):\n",
    "        #Compare each character in the IDs\n",
    "        if ID1[i] == ID2[i]:\n",
    "            match += 1\n",
    "        else:\n",
    "            #If the char didn't match keep a note of the position\n",
    "            mismatch_postition = i\n",
    "    \n",
    "    #If only one char didn't match, we're done, else keep going\n",
    "    if match == ID_length - 1:\n",
    "        target_IDs = (ID1, ID2)\n",
    "        break\n",
    "        \n",
    "#Work out the answer\n",
    "character_diff = target_IDs[0][:mismatch_postition] + target_IDs[0][mismatch_postition + 1:]\n",
    "\n",
    "#Print nicely\n",
    "print(\"The IDs which differ by one character are:\\\n",
    "      \\n'{}' and '{}'\\\n",
    "      \\nThe different character is '{}' at position {}\\\n",
    "      \\nThe remaing characters in common are: '{}'\"\n",
    "      .format(target_IDs[0], target_IDs[1], \n",
    "              target_IDs[0][mismatch_postition], mismatch_postition, \n",
    "              character_diff)\n",
    "     )        \n",
    "    "
   ]
  }
 ],
 "metadata": {
  "kernelspec": {
   "display_name": "Python 3",
   "language": "python",
   "name": "python3"
  },
  "language_info": {
   "codemirror_mode": {
    "name": "ipython",
    "version": 3
   },
   "file_extension": ".py",
   "mimetype": "text/x-python",
   "name": "python",
   "nbconvert_exporter": "python",
   "pygments_lexer": "ipython3",
   "version": "3.6.4"
  }
 },
 "nbformat": 4,
 "nbformat_minor": 2
}
