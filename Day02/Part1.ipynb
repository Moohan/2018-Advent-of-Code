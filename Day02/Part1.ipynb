{
 "cells": [
  {
   "cell_type": "code",
   "execution_count": 3,
   "metadata": {},
   "outputs": [
    {
     "data": {
      "text/html": [
       "<div>\n",
       "<style scoped>\n",
       "    .dataframe tbody tr th:only-of-type {\n",
       "        vertical-align: middle;\n",
       "    }\n",
       "\n",
       "    .dataframe tbody tr th {\n",
       "        vertical-align: top;\n",
       "    }\n",
       "\n",
       "    .dataframe thead th {\n",
       "        text-align: right;\n",
       "    }\n",
       "</style>\n",
       "<table border=\"1\" class=\"dataframe\">\n",
       "  <thead>\n",
       "    <tr style=\"text-align: right;\">\n",
       "      <th></th>\n",
       "      <th>IDs</th>\n",
       "    </tr>\n",
       "  </thead>\n",
       "  <tbody>\n",
       "    <tr>\n",
       "      <th>0</th>\n",
       "      <td>revtoubfniyhzsgxdowjwkqglp</td>\n",
       "    </tr>\n",
       "    <tr>\n",
       "      <th>1</th>\n",
       "      <td>revtcgbfniyhzsvxdomjwkqmlp</td>\n",
       "    </tr>\n",
       "    <tr>\n",
       "      <th>2</th>\n",
       "      <td>cevtcubfniyhqsgxdoakwkqmlp</td>\n",
       "    </tr>\n",
       "    <tr>\n",
       "      <th>3</th>\n",
       "      <td>revtcubfniyhzsgxdtavwkqmep</td>\n",
       "    </tr>\n",
       "    <tr>\n",
       "      <th>4</th>\n",
       "      <td>reutcuboniyhzmgxdoajwkqmlp</td>\n",
       "    </tr>\n",
       "  </tbody>\n",
       "</table>\n",
       "</div>"
      ],
      "text/plain": [
       "                          IDs\n",
       "0  revtoubfniyhzsgxdowjwkqglp\n",
       "1  revtcgbfniyhzsvxdomjwkqmlp\n",
       "2  cevtcubfniyhqsgxdoakwkqmlp\n",
       "3  revtcubfniyhzsgxdtavwkqmep\n",
       "4  reutcuboniyhzmgxdoajwkqmlp"
      ]
     },
     "execution_count": 3,
     "metadata": {},
     "output_type": "execute_result"
    }
   ],
   "source": [
    "\"\"\"\n",
    "Advent of Code 2018\n",
    "https://adventofcode.com/2018\n",
    "\n",
    "Day 2\n",
    "Part 1\n",
    "\"\"\"\n",
    "\n",
    "#Set up\n",
    "import pandas as pd\n",
    "df = pd.read_csv('input', header=None, names=['IDs'])\n",
    "df.head()"
   ]
  },
  {
   "cell_type": "code",
   "execution_count": 25,
   "metadata": {},
   "outputs": [
    {
     "name": "stdout",
     "output_type": "stream",
     "text": [
      "We checked 250 IDs      \n",
      "249 have a twice repeating character      \n",
      "25 have a twice repeating character      \n",
      "249 * 25 = 6225 so checksum is: 6225\n"
     ]
    }
   ],
   "source": [
    "#Start some couts\n",
    "count_twos = 0\n",
    "count_threes = 0\n",
    "\n",
    "#Loop through the IDs\n",
    "for ID in df.IDs:\n",
    "    \n",
    "    #Create a set which will just be the unique letters and will be fast to work with\n",
    "    unique_letters = set(ID)\n",
    "    \n",
    "    #Initialise these as flags\n",
    "    has_two = False\n",
    "    has_three = False\n",
    "    \n",
    "    #Only check the ID if we know it has a repeat\n",
    "    if len(ID) != len(unique_letters):\n",
    "        \n",
    "        #Check each unique letter in turn\n",
    "        for letter in unique_letters:\n",
    "            \n",
    "            #Get a count for that letter\n",
    "            letter_count = sum(letter == l for l in ID)\n",
    "            \n",
    "            #Assign flags\n",
    "            if letter_count == 2:\n",
    "                has_two = True\n",
    "            elif letter_count == 3:\n",
    "                has_three = True\n",
    "            \n",
    "            #If we've ticked both flgas we can stop\n",
    "            if has_two and has_three: break\n",
    "    \n",
    "    #Add the flags to the counts\n",
    "    count_twos += has_two\n",
    "    count_threes += has_three\n",
    "\n",
    "#Work out the checksum\n",
    "checksum = count_twos * count_threes\n",
    "\n",
    "#Print nicely\n",
    "print(\"We checked {0} IDs\\\n",
    "      \\n{1} have a twice repeating character\\\n",
    "      \\n{2} have a twice repeating character\\\n",
    "      \\n{1} * {2} = {3} so checksum is: {3}\"\n",
    "      .format(len(df.IDs), count_twos, count_threes, checksum))"
   ]
  }
 ],
 "metadata": {
  "kernelspec": {
   "display_name": "Python 3",
   "language": "python",
   "name": "python3"
  },
  "language_info": {
   "codemirror_mode": {
    "name": "ipython",
    "version": 3
   },
   "file_extension": ".py",
   "mimetype": "text/x-python",
   "name": "python",
   "nbconvert_exporter": "python",
   "pygments_lexer": "ipython3",
   "version": "3.6.4"
  }
 },
 "nbformat": 4,
 "nbformat_minor": 2
}
