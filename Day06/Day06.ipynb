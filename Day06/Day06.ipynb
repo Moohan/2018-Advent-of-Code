{
 "cells": [
  {
   "cell_type": "code",
   "execution_count": 13,
   "metadata": {},
   "outputs": [
    {
     "name": "stdout",
     "output_type": "stream",
     "text": [
      "[[158, 163], [287, 68], [76, 102], [84, 244], [162, 55], [272, 335], [345, 358], [210, 211], [343, 206], [219, 323], [260, 238], [83, 94], [137, 340], [244, 172], [335, 307], [52, 135], [312, 109], [276, 93], [288, 274], [173, 211], [125, 236], [200, 217], [339, 56], [286, 134], [310, 192], [169, 192], [313, 106], [331, 186], [40, 236], [194, 122], [244, 76], [159, 282], [161, 176], [262, 279], [184, 93], [337, 284], [346, 342], [283, 90], [279, 162], [112, 244], [49, 254], [63, 176], [268, 145], [334, 336], [278, 176], [353, 135], [282, 312], [96, 85], [90, 105], [354, 312]]\n"
     ]
    }
   ],
   "source": [
    "\"\"\"\n",
    "Advent of Code 2018\n",
    "https://adventofcode.com/2018\n",
    "\n",
    "Day 6\n",
    "Part 1\n",
    "\"\"\"\n",
    "\n",
    "with open(\"input\") as input:\n",
    "    coords = []\n",
    "    for line in input:\n",
    "        coords.append(line.strip().split(\", \"))\n",
    "        \n",
    "coords = [[int(b) for b in a] for a in coords]\n",
    "        \n",
    "print(coords)\n"
   ]
  },
  {
   "cell_type": "code",
   "execution_count": 20,
   "metadata": {},
   "outputs": [
    {
     "name": "stdout",
     "output_type": "stream",
     "text": [
      "354 358\n"
     ]
    }
   ],
   "source": [
    "import operator\n",
    "\n",
    "maxX = max(coords, key=operator.itemgetter(0))[0]\n",
    "maxY = max(coords, key=operator.itemgetter(1))[1]\n",
    "print(maxX, maxY)"
   ]
  },
  {
   "cell_type": "code",
   "execution_count": 28,
   "metadata": {},
   "outputs": [],
   "source": [
    "def ManhattanDistance(a, b):\n",
    "    return abs(a[0] - b[0]) + abs(a[1] - b[1])\n"
   ]
  },
  {
   "cell_type": "code",
   "execution_count": 63,
   "metadata": {},
   "outputs": [],
   "source": [
    "from collections import defaultdict\n",
    "\n",
    "ManDists = defaultdict(dict)\n",
    "\n",
    "for x in range(maxX + 1):\n",
    "    for y in range(maxY + 1):\n",
    "        for coord in coords:\n",
    "            ManDists[(x,y)].update({str(coord):ManhattanDistance((x, y), coord)})"
   ]
  },
  {
   "cell_type": "code",
   "execution_count": 77,
   "metadata": {},
   "outputs": [],
   "source": [
    "closest_point = defaultdict(dict)\n",
    "\n",
    "for coord in ManDists.keys():\n",
    "    closest_point[coord] = min(ManDists[coord].items(), key=operator.itemgetter(1))[0]\n"
   ]
  },
  {
   "cell_type": "code",
   "execution_count": 81,
   "metadata": {},
   "outputs": [
    {
     "data": {
      "text/plain": [
       "('[83, 94]', 8285)"
      ]
     },
     "execution_count": 81,
     "metadata": {},
     "output_type": "execute_result"
    }
   ],
   "source": [
    "from collections import Counter\n",
    "#remove any infinites\n",
    "for x, y in [[0,maxX +1][0,maxY + 1]]:\n",
    "    if (x,y)\n",
    "\n",
    "max(Counter(closest_point.values()).items(), key=operator.itemgetter(1))\n"
   ]
  }
 ],
 "metadata": {
  "kernelspec": {
   "display_name": "Python 3",
   "language": "python",
   "name": "python3"
  },
  "language_info": {
   "codemirror_mode": {
    "name": "ipython",
    "version": 3
   },
   "file_extension": ".py",
   "mimetype": "text/x-python",
   "name": "python",
   "nbconvert_exporter": "python",
   "pygments_lexer": "ipython3",
   "version": "3.6.7"
  }
 },
 "nbformat": 4,
 "nbformat_minor": 2
}
